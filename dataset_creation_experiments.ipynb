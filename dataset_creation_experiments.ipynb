{
 "cells": [
  {
   "cell_type": "code",
   "id": "initial_id",
   "metadata": {
    "collapsed": true,
    "ExecuteTime": {
     "end_time": "2024-11-01T15:53:18.993031Z",
     "start_time": "2024-11-01T15:53:17.042489Z"
    }
   },
   "source": [
    "from transformers import AutoModel, AutoTokenizer, AutoModelForSequenceClassification\n",
    "from datasets import Dataset\n",
    "import fitz\n",
    "from pathlib import Path\n",
    "import torch\n",
    "from typing import Literal, Any\n",
    "import re\n",
    "from extracted_content import LLM_Extracted_content\n",
    "from utils import get_document_maps\n",
    "import pandas as pd\n",
    "from rag_configuration import CFG"
   ],
   "outputs": [],
   "execution_count": 1
  },
  {
   "metadata": {
    "ExecuteTime": {
     "end_time": "2024-11-01T15:53:19.126214Z",
     "start_time": "2024-11-01T15:53:19.123948Z"
    }
   },
   "cell_type": "code",
   "source": [
    "#embedding_model = AutoModel.from_pretrained(CFG.embedding_model_name, trust_remote_code=True,\n",
    "#                                            torch_dtype=torch.bfloat16)\n",
    "#embedding_tokenizer = AutoTokenizer.from_pretrained(CFG.embedding_model_name)\n",
    "#reranker_tokenizer = AutoTokenizer.from_pretrained(CFG.reranker_model_name)\n",
    "#reranker_model = AutoModelForSequenceClassification.from_pretrained(\n",
    "#    CFG.reranker_model_name, trust_remote_code=True,\n",
    "#    torch_dtype='auto'\n",
    "#)\n",
    "#embedding_tokenizer.model_max_length = 8192\n",
    "#reranker_tokenizer.model_max_length = 8192"
   ],
   "id": "494ad6b70c6b4c92",
   "outputs": [],
   "execution_count": 3
  },
  {
   "metadata": {
    "ExecuteTime": {
     "end_time": "2024-11-01T15:53:19.192844Z",
     "start_time": "2024-11-01T15:53:19.188138Z"
    }
   },
   "cell_type": "code",
   "source": [
    "document_paths: list[str] = [str(path) for path in Path(CFG.data_dir).glob('**/*.pdf')]\n",
    "document_paths"
   ],
   "id": "14c50bc85e4dfda4",
   "outputs": [
    {
     "data": {
      "text/plain": [
       "['data\\\\001-012l_S3_Analgesie-Sedierung-Delirmanagement-in-der-Intensivmedizin-DAS_2021-08.pdf',\n",
       " 'data\\\\040-012l_S2k_Diagnostik-Therapie-Kohlenmonoxidvergiftung_2021-11.pdf',\n",
       " 'data\\\\040-014l_S3_Intensivmedizin_nach_Polytrauma_2024-08.pdf']"
      ]
     },
     "execution_count": 4,
     "metadata": {},
     "output_type": "execute_result"
    }
   ],
   "execution_count": 4
  },
  {
   "metadata": {
    "ExecuteTime": {
     "end_time": "2024-11-01T15:53:19.230166Z",
     "start_time": "2024-11-01T15:53:19.217931Z"
    }
   },
   "cell_type": "code",
   "source": [
    "index_text = fitz.open(document_paths[2])[6].get_text()\n",
    "index_text.count('.') / len(index_text), 'inhaltsverzeichnis' in index_text.lower()[:200]\n",
    "index_text"
   ],
   "id": "c4a9abbb650bb9e5",
   "outputs": [
    {
     "data": {
      "text/plain": [
       "' \\n \\n \\n \\n5 \\n \\nHERAUSGEBENDE \\n1 \\nDIE WICHTIGSTEN EMPFEHLUNGEN AUF EINEN BLICK \\n2 \\nGELTUNGSBEREICH UND ZWECK \\n9 \\nA. ZIELSETZUNG UND FRAGESTELLUNG \\n9 \\nB. VERSORGUNGSBEREICH \\n9 \\nC. PATIENT*INNENZIELGRUPPE \\n9 \\nD. ADRESSATEN \\n9 \\nE. WEITERE DOKUMENTE ZU DIESER LEITLINIE \\n9 \\nZUSAMMENSETZUNG DER LEITLINIENGRUPPE \\n11 \\nLEITLINIENKOORDINATION/ANSPRECHPARTNER \\n11 \\nBETEILIGTE FACHGESELLSCHAFTEN UND ORGANISATION \\n12 \\nKAPITELAUTOREN \\n14 \\nVORWORT \\n17 \\nII. HANDLUNGSEMPFEHLUNGEN IM BEREICH INTENSIVMEDIZIN NACH POLYTRAUMA \\n18 \\n1 INTERDISZIPLINÄRE UND INTERPROFESSIONELLE ZUSAMMENARBEIT UND KOMMUNIKATION \\n19 \\n1.1 PRINZIPIEN DER ZUSAMMENARBEIT IN DER POLYTRAUMAVERSORGUNG \\n19 \\n1.2 OPTIMIERTES SETTING FÜR ZUSAMMENARBEIT UND KOMMUNIKATION \\n20 \\n1.3 BETEILIGE FACHDISZIPLINEN UND PROFESSIONEN IN DER INTENSIVMEDIZINISCHEN POLYTRAUMA-VERSORGUNG 21 \\n1.4 NOTWENDIGE RESSOURCEN \\n22 \\n1.5 PRAKTISCHE DURCHFÜHRUNG DER PATIENT*INNEN-ÜBERGABE NACH POLYTRAUMA \\n23 \\n1.6 DOKUMENTATIONSSTANDARDS ZUR ERFASSUNG DER INTENSIV-MEDIZINISCHEN KOMPLEXBEHANDLUNG \\n25 \\n1.7 PATIENT*INNEN-KOMMUNIKATION \\n26 \\n1.8 ANGEHÖRIGEN-KOMMUNIKATION \\n28 \\n2. AUFNAHME AUF DIE INTENSIVSTATION \\n34 \\n2.1. \\nINDIKATIONSSTELLUNG ZUR ITS-AUFNAHME \\n34 \\n2.2 \\nANFORDERUNGSPROFIL AN AUSSTATTUNG EINER POLYTRAUMA-ITS \\n37 \\n2.3. \\nMELDEKETTEN NACH ÜBERNAHME AUF DIE ITS \\n39 \\n'"
      ]
     },
     "execution_count": 5,
     "metadata": {},
     "output_type": "execute_result"
    }
   ],
   "execution_count": 5
  },
  {
   "metadata": {
    "ExecuteTime": {
     "end_time": "2024-11-01T15:53:19.255174Z",
     "start_time": "2024-11-01T15:53:19.249379Z"
    }
   },
   "cell_type": "code",
   "source": [
    "class BaseDocument:\n",
    "    def __init__(self, pdf_path: str):\n",
    "        self.pdf_path = pdf_path\n",
    "        self.title = self.get_title()\n",
    "\n",
    "    def get_title(self):\n",
    "        return re.search(CFG.filename_pattern, self.pdf_path).group(1).replace('-', ' ').replace('_', ' ')\n",
    "\n",
    "\n",
    "class DocumentIndexData(BaseDocument):\n",
    "\n",
    "    def __init__(self, pdf_path: str, index_page: int, toc_text: str):\n",
    "        super().__init__(pdf_path)\n",
    "        self.toc_pages = [index_page]\n",
    "        self.toc_text = toc_text\n",
    "        self.chapters = self.get_chapters()\n",
    "        self.chapter_ranges = self.get_chapter_ranges()\n",
    "        self.useless_chapter_keywords = self.get_useless_chapter_keywords()\n",
    "\n",
    "    def add_to_index(self, extra_page: int, extra_text: str):\n",
    "        self.toc_pages.append(extra_page)\n",
    "        self.toc_text += '\\n' + extra_text\n",
    "\n",
    "    def __str__(self):\n",
    "        return f'Document at {self.pdf_path}'\n",
    "\n",
    "    def __repr__(self):\n",
    "        return str(self)\n",
    "\n",
    "    def get_index_range(self) -> tuple[int, int]:\n",
    "        return self.toc_pages[0], self.toc_pages[-1]\n",
    "\n",
    "    def get_chapters(self) -> dict[str, int]:\n",
    "        chapter_mapping = LLM_Extracted_content.contents[str(self.pdf_path).lower().replace('\\\\', '/')]\n",
    "        return {key.split(' ', 1)[1] if ' ' in key else key: value for key, value in chapter_mapping.items()}\n",
    "\n",
    "    def get_chapter_ranges(self) -> dict[str, tuple[int, int]]:\n",
    "        return {key: (self.chapters[key]-1, next_value-1) for key, next_value in\n",
    "                zip(self.chapters.keys(), list(self.chapters.values())[1:] + [10 ** 10])}\n",
    "\n",
    "    @staticmethod\n",
    "    def get_useless_chapter_keywords() -> list[str]:\n",
    "        original_useless_chapter_keywords = ['Literaturverzeichnis', 'Inhaltsverzeichnis', 'Literatur',\n",
    "                                             'Verwendete Abkürzungen']\n",
    "        useless_chapter_keywords = original_useless_chapter_keywords.copy()\n",
    "        useless_chapter_keywords += [keyword.lower() for keyword in original_useless_chapter_keywords]\n",
    "        useless_chapter_keywords += [keyword.upper() for keyword in original_useless_chapter_keywords]\n",
    "        useless_chapter_keywords += [keyword.capitalize() for keyword in original_useless_chapter_keywords]\n",
    "        return list(set(useless_chapter_keywords))\n",
    "\n",
    "\n"
   ],
   "id": "8e25c340b314cba5",
   "outputs": [],
   "execution_count": 6
  },
  {
   "metadata": {
    "ExecuteTime": {
     "end_time": "2024-11-01T15:53:19.570206Z",
     "start_time": "2024-11-01T15:53:19.261181Z"
    }
   },
   "cell_type": "code",
   "source": [
    "documents = []\n",
    "for doc in document_paths:\n",
    "    print(doc)\n",
    "    new_document = None\n",
    "    for num, page in enumerate(fitz.open(doc)):\n",
    "        page_text = page.get_text()\n",
    "\n",
    "        if ('inhaltsverzeichnis' in page_text.lower()[:200] or new_document) and (\n",
    "                page_text.count('.') / len(page_text) > CFG.index_dot_percentage_threshold):\n",
    "            if new_document:\n",
    "                new_document.add_to_index(num, page_text)\n",
    "            else:\n",
    "                new_document = DocumentIndexData(doc, num, page_text)\n",
    "        elif new_document:\n",
    "            documents.append(new_document)\n",
    "            break\n",
    "            #print('\\n'+50*'#')\n",
    "    #print(doc)\n",
    "    #print('\\n'+50*'#')\n",
    "    #find_toc_text(doc)\n",
    "    #print('\\n\\n\\n')\n",
    "\n",
    "documents"
   ],
   "id": "5cf476d8add4531d",
   "outputs": [
    {
     "name": "stdout",
     "output_type": "stream",
     "text": [
      "data\\001-012l_S3_Analgesie-Sedierung-Delirmanagement-in-der-Intensivmedizin-DAS_2021-08.pdf\n",
      "data\\040-012l_S2k_Diagnostik-Therapie-Kohlenmonoxidvergiftung_2021-11.pdf\n",
      "data\\040-014l_S3_Intensivmedizin_nach_Polytrauma_2024-08.pdf\n"
     ]
    },
    {
     "data": {
      "text/plain": [
       "[Document at data\\001-012l_S3_Analgesie-Sedierung-Delirmanagement-in-der-Intensivmedizin-DAS_2021-08.pdf,\n",
       " Document at data\\040-012l_S2k_Diagnostik-Therapie-Kohlenmonoxidvergiftung_2021-11.pdf]"
      ]
     },
     "execution_count": 7,
     "metadata": {},
     "output_type": "execute_result"
    }
   ],
   "execution_count": 7
  },
  {
   "metadata": {},
   "cell_type": "markdown",
   "source": "**Add missing document manually**",
   "id": "28f06990bbc03cb"
  },
  {
   "metadata": {
    "ExecuteTime": {
     "end_time": "2024-11-01T15:53:19.588269Z",
     "start_time": "2024-11-01T15:53:19.575724Z"
    }
   },
   "cell_type": "code",
   "source": [
    "missing_document: fitz.Document = fitz.open(document_paths[-1])\n",
    "page_range = (6, 10)\n",
    "if len(documents) < 3:\n",
    "    for page in range(*page_range):\n",
    "        try:\n",
    "            missing_index_data.add_to_index(page, missing_document[page].get_text())\n",
    "        except NameError:\n",
    "            missing_index_data = DocumentIndexData(document_paths[-1], page, index_text)\n",
    "    documents.append(missing_index_data)\n",
    "documents"
   ],
   "id": "9bf2f0209a3e8a6",
   "outputs": [
    {
     "data": {
      "text/plain": [
       "[Document at data\\001-012l_S3_Analgesie-Sedierung-Delirmanagement-in-der-Intensivmedizin-DAS_2021-08.pdf,\n",
       " Document at data\\040-012l_S2k_Diagnostik-Therapie-Kohlenmonoxidvergiftung_2021-11.pdf,\n",
       " Document at data\\040-014l_S3_Intensivmedizin_nach_Polytrauma_2024-08.pdf]"
      ]
     },
     "execution_count": 8,
     "metadata": {},
     "output_type": "execute_result"
    }
   ],
   "execution_count": 8
  },
  {
   "metadata": {
    "ExecuteTime": {
     "end_time": "2024-11-01T15:53:19.596023Z",
     "start_time": "2024-11-01T15:53:19.593494Z"
    }
   },
   "cell_type": "code",
   "source": [
    "class DocumentChunk(BaseDocument):\n",
    "    def __init__(self, pdf_path: str, chunk_title: str, chunk_page: int, chunk_text: str):\n",
    "        super().__init__(pdf_path)\n",
    "        self.chunk_title = chunk_title\n",
    "        self.chunk_page = chunk_page\n",
    "        self.chunk_text = chunk_text\n",
    "\n",
    "    def get_data(self) -> dict[str, Any]:\n",
    "        return {'title': self.chunk_title, 'text': self.chunk_text}\n",
    "\n"
   ],
   "id": "c84d03e1af3bbe57",
   "outputs": [],
   "execution_count": 9
  },
  {
   "metadata": {
    "ExecuteTime": {
     "end_time": "2024-11-01T15:53:19.611443Z",
     "start_time": "2024-11-01T15:53:19.607168Z"
    }
   },
   "cell_type": "code",
   "source": "documents[0].chapter_ranges",
   "id": "50ed0c48b761851c",
   "outputs": [
    {
     "data": {
      "text/plain": [
       "{'Leitsatz': (2, 3),\n",
       " 'Inhaltsverzeichnis': (3, 4),\n",
       " 'Analgesie, Sedierung und Delirmanagement bei Erwachsenen': (4, 4),\n",
       " 'Relevanz': (4, 4),\n",
       " 'Risikofaktoren in der Intensivmedizin': (4, 7),\n",
       " 'Prävention und Risikoreduktion': (7, 10),\n",
       " 'Prävention und Frühintervention akuter Belastungen zur Reduktion von Spätfolgen': (10,\n",
       "  16),\n",
       " 'Monitoring von Analgesie, Sedierung, Delir, Stress, Angst und Schlaf': (16,\n",
       "  165),\n",
       " 'Therapeutische Konzepte': (165, 37),\n",
       " 'Nicht-pharmakologisch': (37, 40),\n",
       " 'Pharmakologisch': (40, 70),\n",
       " 'Regionale Analgesieverfahren in der Intensivmedizin': (70, 82),\n",
       " 'Neuromuskuläre Blockade in der Intensivmedizin': (82, 87),\n",
       " 'Intra- und Interhospitaltransporte': (87, 88),\n",
       " 'Spezielle Patient:innengruppen': (88, 88),\n",
       " 'Schwangerschaft und Stillzeit': (88, 98),\n",
       " 'Sterbende Patient:innen': (98, 100),\n",
       " 'Brandverletzte Patient:innen': (100, 101),\n",
       " 'Das brandverletzte Kind': (101, 104),\n",
       " 'Polytraumatisierte Patient:innen': (104, 107),\n",
       " 'Patient:innen mit erhöhtem intrakraniellen Druck': (107, 124),\n",
       " 'Kardiochirurgische Patient:innen': (124, 126),\n",
       " 'Patient:innen mit extrakorporalen Herz- und Lungenersatzverfahren': (126,\n",
       "  128),\n",
       " 'Patient:innen mit spezieller Lagerungstherapie': (128, 129),\n",
       " 'Analgesie, Sedierung und Delirmanagement bei Kindern': (129, 129),\n",
       " 'Monitoring von Analgesie, Sedierung, Delir, Stress, Angst und Schlaf bei Kindern': (129,\n",
       "  129),\n",
       " 'Analgesie-Monitoring': (129, 137),\n",
       " 'Monitoring der Sedierung': (137, 140),\n",
       " 'Monitoring des Delirs': (140, 143),\n",
       " 'Therapeutische Konzepte bei Kindern': (143, 143),\n",
       " 'Analgesie': (143, 150),\n",
       " 'nicht-pharmakologische Therapie': (150, 152),\n",
       " 'Sedierung': (152, 159),\n",
       " 'Delirtherapie': (159, 163),\n",
       " 'Analgesie, Sedierung und Delirmanagement bei älteren Patient:innen': (163,\n",
       "  163),\n",
       " 'Monitoring und Comprehensive Geriatric Assessment': (163, 167),\n",
       " 'Ökonomie, Qualitätssicherung und Implementierung der Leitlinie': (167, 177),\n",
       " 'Literaturverzeichnis': (177, 9999999999)}"
      ]
     },
     "execution_count": 10,
     "metadata": {},
     "output_type": "execute_result"
    }
   ],
   "execution_count": 10
  },
  {
   "metadata": {
    "ExecuteTime": {
     "end_time": "2024-11-01T15:53:20.741805Z",
     "start_time": "2024-11-01T15:53:19.622797Z"
    }
   },
   "cell_type": "code",
   "source": [
    "text_data = {'section_title': [], 'document_title': [], 'headline': [], 'text': [], 'text_for_embedding': []}\n",
    "\n",
    "for doc, toc_data in zip(document_paths, documents):\n",
    "\n",
    "    sections, section_pages = get_document_maps(doc)\n",
    "\n",
    "    for headline in sections:\n",
    "        document_title = toc_data.title\n",
    "        text = sections[headline]\n",
    "        text_data['headline'].append(headline)\n",
    "        text_data['document_title'].append(document_title)\n",
    "        text_data['text'].append(text)\n",
    "        try:\n",
    "            section_title = [key for key, value in toc_data.chapter_ranges.items() if value[0] <= section_pages[headline] <= value[1]][0]\n",
    "            text_data['section_title'].append(section_title)\n",
    "                \n",
    "        except IndexError:\n",
    "            section_title = ''\n",
    "            text_data['section_title'].append(section_title)\n",
    "        text_data['text_for_embedding'] = '\\n'.join([document_title, section_title, headline, text])\n",
    "\n"
   ],
   "id": "f2929e1d00e865fd",
   "outputs": [],
   "execution_count": 11
  },
  {
   "metadata": {
    "ExecuteTime": {
     "end_time": "2024-11-01T15:58:21.042209Z",
     "start_time": "2024-11-01T15:58:21.035640Z"
    }
   },
   "cell_type": "code",
   "source": [
    "df = pd.DataFrame(text_data)\n",
    "df"
   ],
   "id": "f19eab6dddc5c40d",
   "outputs": [
    {
     "data": {
      "text/plain": [
       "     section_title                                     document_title  \\\n",
       "0                   S3 Analgesie Sedierung Delirmanagement in der ...   \n",
       "1                   S3 Analgesie Sedierung Delirmanagement in der ...   \n",
       "2                   S3 Analgesie Sedierung Delirmanagement in der ...   \n",
       "3                   S3 Analgesie Sedierung Delirmanagement in der ...   \n",
       "4                   S3 Analgesie Sedierung Delirmanagement in der ...   \n",
       "..             ...                                                ...   \n",
       "486  DER LEITLINIE                 S3 Intensivmedizin nach Polytrauma   \n",
       "487  DER LEITLINIE                 S3 Intensivmedizin nach Polytrauma   \n",
       "488  DER LEITLINIE                 S3 Intensivmedizin nach Polytrauma   \n",
       "489  DER LEITLINIE                 S3 Intensivmedizin nach Polytrauma   \n",
       "490  DER LEITLINIE                 S3 Intensivmedizin nach Polytrauma   \n",
       "\n",
       "                                              headline  \\\n",
       "0                                                        \n",
       "1    S3-Leitlinie Analgesie, Sedierung und Delirman...   \n",
       "2                     Federführende Fachgesellschaften   \n",
       "3                       Beteiligte Fachgesellschaften:   \n",
       "4              Ansprechpartner / Leitliniensekretariat   \n",
       "..                                                 ...   \n",
       "486                         IX. Verwendete Abkürzungen   \n",
       "487              Versionsnummer: Erstveröffentlichung:   \n",
       "488                       Nächste Überprüfung geplant:   \n",
       "489  Insbesondere bei Dosierungsangaben sind stets ...   \n",
       "490  Autorisiert für elektronische Publikation: AWM...   \n",
       "\n",
       "                                                  text  \\\n",
       "0                                                  \\n1   \n",
       "1                       \\nAWMF-Registernummer: 001/012   \n",
       "2    \\nDeutsche Gesellschaft für Anästhesiologie un...   \n",
       "3    \\nDeutsche Gesellschaft für Chirurgie (DGCH)\\n...   \n",
       "4    \\nKlinik für Anästhesiologie m. S. operative I...   \n",
       "..                                                 ...   \n",
       "486  \\n\\nA.S.P.E.N\\n\\nAmerikanischen Fachgesellscha...   \n",
       "487                                                 \\n   \n",
       "488  \\n\\n07/2024\\n07\\n/\\n2029\\nDie AWMF erfasst und...   \n",
       "489                                                 \\n   \n",
       "490                                                 \\n   \n",
       "\n",
       "                                    text_for_embedding  \n",
       "0    S3 Intensivmedizin nach Polytrauma\\nDER LEITLI...  \n",
       "1    S3 Intensivmedizin nach Polytrauma\\nDER LEITLI...  \n",
       "2    S3 Intensivmedizin nach Polytrauma\\nDER LEITLI...  \n",
       "3    S3 Intensivmedizin nach Polytrauma\\nDER LEITLI...  \n",
       "4    S3 Intensivmedizin nach Polytrauma\\nDER LEITLI...  \n",
       "..                                                 ...  \n",
       "486  S3 Intensivmedizin nach Polytrauma\\nDER LEITLI...  \n",
       "487  S3 Intensivmedizin nach Polytrauma\\nDER LEITLI...  \n",
       "488  S3 Intensivmedizin nach Polytrauma\\nDER LEITLI...  \n",
       "489  S3 Intensivmedizin nach Polytrauma\\nDER LEITLI...  \n",
       "490  S3 Intensivmedizin nach Polytrauma\\nDER LEITLI...  \n",
       "\n",
       "[491 rows x 5 columns]"
      ],
      "text/html": [
       "<div>\n",
       "<style scoped>\n",
       "    .dataframe tbody tr th:only-of-type {\n",
       "        vertical-align: middle;\n",
       "    }\n",
       "\n",
       "    .dataframe tbody tr th {\n",
       "        vertical-align: top;\n",
       "    }\n",
       "\n",
       "    .dataframe thead th {\n",
       "        text-align: right;\n",
       "    }\n",
       "</style>\n",
       "<table border=\"1\" class=\"dataframe\">\n",
       "  <thead>\n",
       "    <tr style=\"text-align: right;\">\n",
       "      <th></th>\n",
       "      <th>section_title</th>\n",
       "      <th>document_title</th>\n",
       "      <th>headline</th>\n",
       "      <th>text</th>\n",
       "      <th>text_for_embedding</th>\n",
       "    </tr>\n",
       "  </thead>\n",
       "  <tbody>\n",
       "    <tr>\n",
       "      <th>0</th>\n",
       "      <td></td>\n",
       "      <td>S3 Analgesie Sedierung Delirmanagement in der ...</td>\n",
       "      <td></td>\n",
       "      <td>\\n1</td>\n",
       "      <td>S3 Intensivmedizin nach Polytrauma\\nDER LEITLI...</td>\n",
       "    </tr>\n",
       "    <tr>\n",
       "      <th>1</th>\n",
       "      <td></td>\n",
       "      <td>S3 Analgesie Sedierung Delirmanagement in der ...</td>\n",
       "      <td>S3-Leitlinie Analgesie, Sedierung und Delirman...</td>\n",
       "      <td>\\nAWMF-Registernummer: 001/012</td>\n",
       "      <td>S3 Intensivmedizin nach Polytrauma\\nDER LEITLI...</td>\n",
       "    </tr>\n",
       "    <tr>\n",
       "      <th>2</th>\n",
       "      <td></td>\n",
       "      <td>S3 Analgesie Sedierung Delirmanagement in der ...</td>\n",
       "      <td>Federführende Fachgesellschaften</td>\n",
       "      <td>\\nDeutsche Gesellschaft für Anästhesiologie un...</td>\n",
       "      <td>S3 Intensivmedizin nach Polytrauma\\nDER LEITLI...</td>\n",
       "    </tr>\n",
       "    <tr>\n",
       "      <th>3</th>\n",
       "      <td></td>\n",
       "      <td>S3 Analgesie Sedierung Delirmanagement in der ...</td>\n",
       "      <td>Beteiligte Fachgesellschaften:</td>\n",
       "      <td>\\nDeutsche Gesellschaft für Chirurgie (DGCH)\\n...</td>\n",
       "      <td>S3 Intensivmedizin nach Polytrauma\\nDER LEITLI...</td>\n",
       "    </tr>\n",
       "    <tr>\n",
       "      <th>4</th>\n",
       "      <td></td>\n",
       "      <td>S3 Analgesie Sedierung Delirmanagement in der ...</td>\n",
       "      <td>Ansprechpartner / Leitliniensekretariat</td>\n",
       "      <td>\\nKlinik für Anästhesiologie m. S. operative I...</td>\n",
       "      <td>S3 Intensivmedizin nach Polytrauma\\nDER LEITLI...</td>\n",
       "    </tr>\n",
       "    <tr>\n",
       "      <th>...</th>\n",
       "      <td>...</td>\n",
       "      <td>...</td>\n",
       "      <td>...</td>\n",
       "      <td>...</td>\n",
       "      <td>...</td>\n",
       "    </tr>\n",
       "    <tr>\n",
       "      <th>486</th>\n",
       "      <td>DER LEITLINIE</td>\n",
       "      <td>S3 Intensivmedizin nach Polytrauma</td>\n",
       "      <td>IX. Verwendete Abkürzungen</td>\n",
       "      <td>\\n\\nA.S.P.E.N\\n\\nAmerikanischen Fachgesellscha...</td>\n",
       "      <td>S3 Intensivmedizin nach Polytrauma\\nDER LEITLI...</td>\n",
       "    </tr>\n",
       "    <tr>\n",
       "      <th>487</th>\n",
       "      <td>DER LEITLINIE</td>\n",
       "      <td>S3 Intensivmedizin nach Polytrauma</td>\n",
       "      <td>Versionsnummer: Erstveröffentlichung:</td>\n",
       "      <td>\\n</td>\n",
       "      <td>S3 Intensivmedizin nach Polytrauma\\nDER LEITLI...</td>\n",
       "    </tr>\n",
       "    <tr>\n",
       "      <th>488</th>\n",
       "      <td>DER LEITLINIE</td>\n",
       "      <td>S3 Intensivmedizin nach Polytrauma</td>\n",
       "      <td>Nächste Überprüfung geplant:</td>\n",
       "      <td>\\n\\n07/2024\\n07\\n/\\n2029\\nDie AWMF erfasst und...</td>\n",
       "      <td>S3 Intensivmedizin nach Polytrauma\\nDER LEITLI...</td>\n",
       "    </tr>\n",
       "    <tr>\n",
       "      <th>489</th>\n",
       "      <td>DER LEITLINIE</td>\n",
       "      <td>S3 Intensivmedizin nach Polytrauma</td>\n",
       "      <td>Insbesondere bei Dosierungsangaben sind stets ...</td>\n",
       "      <td>\\n</td>\n",
       "      <td>S3 Intensivmedizin nach Polytrauma\\nDER LEITLI...</td>\n",
       "    </tr>\n",
       "    <tr>\n",
       "      <th>490</th>\n",
       "      <td>DER LEITLINIE</td>\n",
       "      <td>S3 Intensivmedizin nach Polytrauma</td>\n",
       "      <td>Autorisiert für elektronische Publikation: AWM...</td>\n",
       "      <td>\\n</td>\n",
       "      <td>S3 Intensivmedizin nach Polytrauma\\nDER LEITLI...</td>\n",
       "    </tr>\n",
       "  </tbody>\n",
       "</table>\n",
       "<p>491 rows × 5 columns</p>\n",
       "</div>"
      ]
     },
     "execution_count": 14,
     "metadata": {},
     "output_type": "execute_result"
    }
   ],
   "execution_count": 14
  },
  {
   "metadata": {
    "ExecuteTime": {
     "end_time": "2024-11-01T15:58:22.509397Z",
     "start_time": "2024-11-01T15:58:22.503576Z"
    }
   },
   "cell_type": "code",
   "source": "df.document_title.unique()",
   "id": "bce4e2c6805e6b56",
   "outputs": [
    {
     "data": {
      "text/plain": [
       "array(['S3 Analgesie Sedierung Delirmanagement in der Intensivmedizin DAS',\n",
       "       'S2k Diagnostik Therapie Kohlenmonoxidvergiftung',\n",
       "       'S3 Intensivmedizin nach Polytrauma'], dtype=object)"
      ]
     },
     "execution_count": 15,
     "metadata": {},
     "output_type": "execute_result"
    }
   ],
   "execution_count": 15
  },
  {
   "metadata": {
    "ExecuteTime": {
     "end_time": "2024-11-01T15:53:20.806533Z",
     "start_time": "2024-11-01T15:53:20.804844Z"
    }
   },
   "cell_type": "code",
   "source": "huggingface_dataset = Dataset.from_pandas(df)",
   "id": "3860a6dd8f10c9fa",
   "outputs": [],
   "execution_count": null
  }
 ],
 "metadata": {
  "kernelspec": {
   "display_name": "Python 3",
   "language": "python",
   "name": "python3"
  },
  "language_info": {
   "codemirror_mode": {
    "name": "ipython",
    "version": 2
   },
   "file_extension": ".py",
   "mimetype": "text/x-python",
   "name": "python",
   "nbconvert_exporter": "python",
   "pygments_lexer": "ipython2",
   "version": "2.7.6"
  }
 },
 "nbformat": 4,
 "nbformat_minor": 5
}
