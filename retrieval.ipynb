{
 "cells": [
  {
   "cell_type": "code",
   "id": "initial_id",
   "metadata": {
    "collapsed": true,
    "ExecuteTime": {
     "end_time": "2024-11-05T05:58:44.598792Z",
     "start_time": "2024-11-05T05:58:25.018117Z"
    }
   },
   "source": [
    "from vector_database.retrieve import retrieve_elements\n",
    "from transformers import AutoModel, AutoTokenizer, AutoModelForSequenceClassification\n",
    "import torch\n",
    "from rag_configuration import CFG\n",
    "torch.set_default_device('cuda' if torch.cuda.is_available() else 'cpu')"
   ],
   "outputs": [],
   "execution_count": 1
  },
  {
   "metadata": {
    "ExecuteTime": {
     "end_time": "2024-11-05T05:58:44.618834Z",
     "start_time": "2024-11-05T05:58:44.612798Z"
    }
   },
   "cell_type": "code",
   "source": "torch.cuda.is_available()",
   "id": "6727eecad043168c",
   "outputs": [
    {
     "data": {
      "text/plain": [
       "True"
      ]
     },
     "execution_count": 2,
     "metadata": {},
     "output_type": "execute_result"
    }
   ],
   "execution_count": 2
  },
  {
   "metadata": {
    "ExecuteTime": {
     "end_time": "2024-11-05T05:59:13.040936Z",
     "start_time": "2024-11-05T05:58:44.697561Z"
    }
   },
   "cell_type": "code",
   "source": [
    "embedding_model = AutoModel.from_pretrained(CFG.embedding_model_name, trust_remote_code=True,\n",
    "                                            torch_dtype=torch.bfloat16, use_flash_attn=False).to('cuda')\n",
    "embedding_tokenizer = AutoTokenizer.from_pretrained(CFG.embedding_model_name)\n",
    "reranker_tokenizer = AutoTokenizer.from_pretrained(CFG.reranker_model_name)\n",
    "reranker_model = AutoModelForSequenceClassification.from_pretrained(\n",
    "    CFG.reranker_model_name, trust_remote_code=True,\n",
    "    torch_dtype='auto')\n",
    "embedding_tokenizer.model_max_length = 8192\n",
    "reranker_tokenizer.model_max_length = 8192"
   ],
   "id": "6d215f1c537d6a6f",
   "outputs": [],
   "execution_count": 3
  },
  {
   "metadata": {
    "ExecuteTime": {
     "end_time": "2024-11-05T05:59:13.612167Z",
     "start_time": "2024-11-05T05:59:13.609081Z"
    }
   },
   "cell_type": "code",
   "source": "queries = ['Welches Schmerzmittel sollte ich einem schwer verletztem Kind geben?', 'Was bedeutet es, wenn die Arme eines schwer verletzen Patienten anschwellen?', 'Worauf sollte man bei einem versuchten Selbstmord durch Abgase bei einem Patienten achten?']",
   "id": "bf0b9a882c3fb5f7",
   "outputs": [],
   "execution_count": 4
  },
  {
   "metadata": {
    "ExecuteTime": {
     "end_time": "2024-11-05T05:59:13.686880Z",
     "start_time": "2024-11-05T05:59:13.683761Z"
    }
   },
   "cell_type": "code",
   "source": "test_query = queries[1]",
   "id": "7714db713b3b4b9",
   "outputs": [],
   "execution_count": 5
  },
  {
   "metadata": {
    "ExecuteTime": {
     "end_time": "2024-11-05T05:59:20.705463Z",
     "start_time": "2024-11-05T05:59:13.763194Z"
    }
   },
   "cell_type": "code",
   "source": "elems = retrieve_elements(test_query, embedding_model)",
   "id": "5f81260608729e07",
   "outputs": [
    {
     "ename": "OperationalError",
     "evalue": "connection to server at \"localhost\" (::1), port 5433 failed: Connection refused (0x0000274D/10061)\n\tIs the server running on that host and accepting TCP/IP connections?\nconnection to server at \"localhost\" (127.0.0.1), port 5433 failed: Connection refused (0x0000274D/10061)\n\tIs the server running on that host and accepting TCP/IP connections?\n",
     "output_type": "error",
     "traceback": [
      "\u001B[1;31m---------------------------------------------------------------------------\u001B[0m",
      "\u001B[1;31mOperationalError\u001B[0m                          Traceback (most recent call last)",
      "Cell \u001B[1;32mIn[6], line 1\u001B[0m\n\u001B[1;32m----> 1\u001B[0m elems \u001B[38;5;241m=\u001B[39m \u001B[43mretrieve_elements\u001B[49m\u001B[43m(\u001B[49m\u001B[43mtest_query\u001B[49m\u001B[43m,\u001B[49m\u001B[43m \u001B[49m\u001B[43membedding_model\u001B[49m\u001B[43m)\u001B[49m\n",
      "File \u001B[1;32mD:\\PycharmProjects\\RAG_Aufgabe\\vector_database\\retrieve.py:23\u001B[0m, in \u001B[0;36mretrieve_elements\u001B[1;34m(user_query, model, config, general_config)\u001B[0m\n\u001B[0;32m     14\u001B[0m \u001B[38;5;250m\u001B[39m\u001B[38;5;124;03m\"\"\"Finds the configured amount of most semantically similar documents to the input embeddings.\u001B[39;00m\n\u001B[0;32m     15\u001B[0m \n\u001B[0;32m     16\u001B[0m \u001B[38;5;124;03m:param user_query: Query string to find the most similar documents.\u001B[39;00m\n\u001B[1;32m   (...)\u001B[0m\n\u001B[0;32m     20\u001B[0m \u001B[38;5;124;03m:return: Query Results\u001B[39;00m\n\u001B[0;32m     21\u001B[0m \u001B[38;5;124;03m\"\"\"\u001B[39;00m\n\u001B[0;32m     22\u001B[0m embedding \u001B[38;5;241m=\u001B[39m model\u001B[38;5;241m.\u001B[39mencode(user_query, task\u001B[38;5;241m=\u001B[39mgeneral_config\u001B[38;5;241m.\u001B[39mretrieval_task)\n\u001B[1;32m---> 23\u001B[0m connection, cursor \u001B[38;5;241m=\u001B[39m \u001B[43mconfig\u001B[49m\u001B[38;5;241;43m.\u001B[39;49m\u001B[43mget_connection_items\u001B[49m\u001B[43m(\u001B[49m\u001B[43m)\u001B[49m\n\u001B[0;32m     24\u001B[0m query \u001B[38;5;241m=\u001B[39m QueryPaths\u001B[38;5;241m.\u001B[39mRETRIEVE\u001B[38;5;241m.\u001B[39mget_query()\u001B[38;5;241m.\u001B[39mformat(\u001B[38;5;28mstr\u001B[39m(embedding\u001B[38;5;241m.\u001B[39mtolist()), config\u001B[38;5;241m.\u001B[39mnumber_of_retrieved_documents)\n\u001B[0;32m     25\u001B[0m cursor\u001B[38;5;241m.\u001B[39mexecute(query)\n",
      "File \u001B[1;32mD:\\PycharmProjects\\RAG_Aufgabe\\vector_database\\vector_store_config.py:18\u001B[0m, in \u001B[0;36mVectorStoreConfig.get_connection_items\u001B[1;34m(cls)\u001B[0m\n\u001B[0;32m     15\u001B[0m \u001B[38;5;28;01mwith\u001B[39;00m \u001B[38;5;28mopen\u001B[39m(\u001B[38;5;28mcls\u001B[39m\u001B[38;5;241m.\u001B[39minitialization_parameters_path, \u001B[38;5;124m'\u001B[39m\u001B[38;5;124mr\u001B[39m\u001B[38;5;124m'\u001B[39m) \u001B[38;5;28;01mas\u001B[39;00m f:\n\u001B[0;32m     16\u001B[0m     db_params \u001B[38;5;241m=\u001B[39m literal_eval(f\u001B[38;5;241m.\u001B[39mread())\n\u001B[1;32m---> 18\u001B[0m conn \u001B[38;5;241m=\u001B[39m \u001B[43mpsycopg2\u001B[49m\u001B[38;5;241;43m.\u001B[39;49m\u001B[43mconnect\u001B[49m\u001B[43m(\u001B[49m\u001B[38;5;241;43m*\u001B[39;49m\u001B[38;5;241;43m*\u001B[39;49m\u001B[43mdb_params\u001B[49m\u001B[43m)\u001B[49m\n\u001B[0;32m     19\u001B[0m new_cursor \u001B[38;5;241m=\u001B[39m conn\u001B[38;5;241m.\u001B[39mcursor()\n\u001B[0;32m     20\u001B[0m \u001B[38;5;28;01mreturn\u001B[39;00m conn, new_cursor\n",
      "File \u001B[1;32mD:\\PycharmProjects\\RAG_Aufgabe\\.venv\\Lib\\site-packages\\psycopg2\\__init__.py:122\u001B[0m, in \u001B[0;36mconnect\u001B[1;34m(dsn, connection_factory, cursor_factory, **kwargs)\u001B[0m\n\u001B[0;32m    119\u001B[0m     kwasync[\u001B[38;5;124m'\u001B[39m\u001B[38;5;124masync_\u001B[39m\u001B[38;5;124m'\u001B[39m] \u001B[38;5;241m=\u001B[39m kwargs\u001B[38;5;241m.\u001B[39mpop(\u001B[38;5;124m'\u001B[39m\u001B[38;5;124masync_\u001B[39m\u001B[38;5;124m'\u001B[39m)\n\u001B[0;32m    121\u001B[0m dsn \u001B[38;5;241m=\u001B[39m _ext\u001B[38;5;241m.\u001B[39mmake_dsn(dsn, \u001B[38;5;241m*\u001B[39m\u001B[38;5;241m*\u001B[39mkwargs)\n\u001B[1;32m--> 122\u001B[0m conn \u001B[38;5;241m=\u001B[39m \u001B[43m_connect\u001B[49m\u001B[43m(\u001B[49m\u001B[43mdsn\u001B[49m\u001B[43m,\u001B[49m\u001B[43m \u001B[49m\u001B[43mconnection_factory\u001B[49m\u001B[38;5;241;43m=\u001B[39;49m\u001B[43mconnection_factory\u001B[49m\u001B[43m,\u001B[49m\u001B[43m \u001B[49m\u001B[38;5;241;43m*\u001B[39;49m\u001B[38;5;241;43m*\u001B[39;49m\u001B[43mkwasync\u001B[49m\u001B[43m)\u001B[49m\n\u001B[0;32m    123\u001B[0m \u001B[38;5;28;01mif\u001B[39;00m cursor_factory \u001B[38;5;129;01mis\u001B[39;00m \u001B[38;5;129;01mnot\u001B[39;00m \u001B[38;5;28;01mNone\u001B[39;00m:\n\u001B[0;32m    124\u001B[0m     conn\u001B[38;5;241m.\u001B[39mcursor_factory \u001B[38;5;241m=\u001B[39m cursor_factory\n",
      "\u001B[1;31mOperationalError\u001B[0m: connection to server at \"localhost\" (::1), port 5433 failed: Connection refused (0x0000274D/10061)\n\tIs the server running on that host and accepting TCP/IP connections?\nconnection to server at \"localhost\" (127.0.0.1), port 5433 failed: Connection refused (0x0000274D/10061)\n\tIs the server running on that host and accepting TCP/IP connections?\n"
     ]
    }
   ],
   "execution_count": 6
  },
  {
   "metadata": {
    "ExecuteTime": {
     "end_time": "2024-11-05T05:59:20.798719400Z",
     "start_time": "2024-11-04T08:07:02.071173Z"
    }
   },
   "cell_type": "code",
   "source": "document_filename, titles, sections,headings, texts, table_flags, page_numbers, cosine_similarities = zip(*elems)",
   "id": "9806399aedeaa148",
   "outputs": [],
   "execution_count": 43
  },
  {
   "metadata": {
    "ExecuteTime": {
     "end_time": "2024-11-05T05:59:20.798719400Z",
     "start_time": "2024-11-04T08:07:02.151045Z"
    }
   },
   "cell_type": "code",
   "source": "scores = reranker_model.compute_score([[test_query, text] for text in texts])",
   "id": "a44b06b0f636038c",
   "outputs": [],
   "execution_count": 44
  },
  {
   "metadata": {
    "ExecuteTime": {
     "end_time": "2024-11-05T05:59:20.799719400Z",
     "start_time": "2024-11-04T08:07:02.246607Z"
    }
   },
   "cell_type": "code",
   "source": [
    "top_k_scores = scores.copy()\n",
    "top_k_scores.sort()\n",
    "top_k_scores = top_k_scores[::-1][:CFG.number_of_retrieved_documents]"
   ],
   "id": "d089d9e9fbcdfdb6",
   "outputs": [],
   "execution_count": 45
  },
  {
   "metadata": {
    "ExecuteTime": {
     "end_time": "2024-11-05T05:59:20.799719400Z",
     "start_time": "2024-11-04T08:07:02.318009Z"
    }
   },
   "cell_type": "code",
   "source": [
    "top_k_texts = [text for text, score in zip(texts, scores) if score in top_k_scores]\n",
    "for text in top_k_texts:\n",
    "    print(50*'#')\n",
    "    print(text)"
   ],
   "id": "e0afcc42d5df2578",
   "outputs": [
    {
     "name": "stdout",
     "output_type": "stream",
     "text": [
      "##################################################\n",
      "Toxikologie : Bei Verdacht auf beabsichtige oder suizidale Kohlenmonoxidvergiftung empfehlen Weaver et al. ein zusätzliches toxikologisches Screening, inklusive Blutethanolspiegel [35]. In einer Studie wurden bei 183/426 Patienten mit beabsichtiger Kohlenmonoxidvergiftung eine zusätzliche Intoxikation vor allem mit Alkohol nachgewiesen [61].\n",
      "##################################################\n",
      "Kohlenmonoxid kann in zahlreichen Situationen und Umgebungen auftreten. Typische Situationen sind Brandrauch, Bewusstseinsstörungen ohne erkennbare Ursache in geschlossenen Räumen mit Feuerstellen (z.B. Heizungen, Öfen, Kamin, Grill); Suizid(versuch) - oft mit entsprechenden Hinweisen (schriftliche Warnung, abgeklebte Räume); in Silos mit großen Mengen an Holzpellets; Motoren-Abgase (ohne Katalysator) und der Gebrauch von Wasserpfeifen.\n",
      "##################################################\n",
      "In der Notaufnahme soll insbesondere auch bei nicht durch den Rettungsdienst eingelieferten Patienten mit Kohlenmonoxidvergiftung immer die Expositionsquelle eruiert werden, um weitere vergiftete Personen zu identifizieren und gegebenenfalls durch noch unbekannte Quellen weitere Kohlenmonoxidvergiftungen zu vermeiden.\n",
      "##################################################\n",
      "Patienten (Kinder, Erwachsene und Schwangere) mit Kohlenmonoxidvergiftung sollten einer hyperbaren Sauerstofftherapie oder einer normobaren Sauerstofftherapie mit hohen Flussraten zugeführt werden.\n",
      "##################################################\n",
      "Aus der Perspektive der Notaufnahme sollten alle BGAs auf erhöhte CO-Hb Werte hin kontrolliert werden.\n"
     ]
    }
   ],
   "execution_count": 46
  },
  {
   "metadata": {
    "ExecuteTime": {
     "end_time": "2024-11-05T05:59:20.799719400Z",
     "start_time": "2024-11-04T08:07:02.384493Z"
    }
   },
   "cell_type": "code",
   "source": "",
   "id": "599389ef93a2fac1",
   "outputs": [],
   "execution_count": null
  }
 ],
 "metadata": {
  "kernelspec": {
   "display_name": "Python 3",
   "language": "python",
   "name": "python3"
  },
  "language_info": {
   "codemirror_mode": {
    "name": "ipython",
    "version": 2
   },
   "file_extension": ".py",
   "mimetype": "text/x-python",
   "name": "python",
   "nbconvert_exporter": "python",
   "pygments_lexer": "ipython2",
   "version": "2.7.6"
  }
 },
 "nbformat": 4,
 "nbformat_minor": 5
}
