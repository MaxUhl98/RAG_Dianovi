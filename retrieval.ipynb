{
 "cells": [
  {
   "cell_type": "code",
   "id": "initial_id",
   "metadata": {
    "collapsed": true,
    "ExecuteTime": {
     "end_time": "2024-11-07T07:28:00.356107Z",
     "start_time": "2024-11-07T07:27:57.356051Z"
    }
   },
   "source": [
    "import numpy as np\n",
    "from models import load_models\n",
    "from vector_database import get_reranked_documents\n",
    "import torch\n",
    "\n",
    "torch.set_default_device('cuda' if torch.cuda.is_available() else 'cpu')"
   ],
   "outputs": [],
   "execution_count": 1
  },
  {
   "metadata": {
    "ExecuteTime": {
     "end_time": "2024-11-07T07:28:00.370758Z",
     "start_time": "2024-11-07T07:28:00.364120Z"
    }
   },
   "cell_type": "code",
   "source": "torch.cuda.is_available()",
   "id": "6727eecad043168c",
   "outputs": [
    {
     "data": {
      "text/plain": [
       "True"
      ]
     },
     "execution_count": 2,
     "metadata": {},
     "output_type": "execute_result"
    }
   ],
   "execution_count": 2
  },
  {
   "metadata": {
    "ExecuteTime": {
     "end_time": "2024-11-07T07:28:05.736673Z",
     "start_time": "2024-11-07T07:28:00.522136Z"
    }
   },
   "cell_type": "code",
   "source": "embedding_model, reranker_model = load_models()",
   "id": "6d215f1c537d6a6f",
   "outputs": [],
   "execution_count": 3
  },
  {
   "metadata": {
    "ExecuteTime": {
     "end_time": "2024-11-07T07:28:05.757276Z",
     "start_time": "2024-11-07T07:28:05.753447Z"
    }
   },
   "cell_type": "code",
   "source": [
    "polytrauma_queries = ['Haupttodesursache Polytraumapatient', 'Polytrauma Herzkranker Patient',\n",
    "                      'Was muss man beim Wundmanagement beachten?']\n",
    "kohlenmonoxyd_queries = ['Behandlung von Kohlenmonoxidvergiftung',\n",
    "                         'Woran erkenne ich die schwere einer Kohlenmonoxydvergiftung?',\n",
    "                         'Wann sollte eine Hyperbare Therapie eingesetzt werden?']\n",
    "analgesie_queries = ['Welches Schmerzmittel sollte ich einem Kleinkind mit gebrochenen Knochen geben?',\n",
    "                     'Schmerzeinschätzung bei ansprechbaren Patienten', 'Betäubungsmittel bei schwangerer Frau']"
   ],
   "id": "de928026c87bf6f3",
   "outputs": [],
   "execution_count": 4
  },
  {
   "metadata": {
    "ExecuteTime": {
     "end_time": "2024-11-07T07:28:05.771356Z",
     "start_time": "2024-11-07T07:28:05.767845Z"
    }
   },
   "cell_type": "code",
   "source": "queries = polytrauma_queries + kohlenmonoxyd_queries + analgesie_queries",
   "id": "bf0b9a882c3fb5f7",
   "outputs": [],
   "execution_count": 5
  },
  {
   "metadata": {
    "ExecuteTime": {
     "end_time": "2024-11-07T08:54:46.738459Z",
     "start_time": "2024-11-07T08:54:46.735220Z"
    }
   },
   "cell_type": "code",
   "source": "current_query = queries[5]",
   "id": "d2fcc7b8c6eb66ec",
   "outputs": [],
   "execution_count": 99
  },
  {
   "metadata": {
    "ExecuteTime": {
     "end_time": "2024-11-07T08:54:48.412330Z",
     "start_time": "2024-11-07T08:54:47.879972Z"
    }
   },
   "cell_type": "code",
   "source": [
    "data = get_reranked_documents(current_query, embedding_model, reranker_model)\n",
    "data[['reranking_score', 'cosine_similarity']]"
   ],
   "id": "599389ef93a2fac1",
   "outputs": [
    {
     "data": {
      "text/plain": [
       "   reranking_score  cosine_similarity\n",
       "0         0.767690           0.386638\n",
       "1         0.746139           0.457518\n",
       "2         0.661923           0.547933\n",
       "3         0.660172           0.496634\n",
       "4         0.585101           0.352699"
      ],
      "text/html": [
       "<div>\n",
       "<style scoped>\n",
       "    .dataframe tbody tr th:only-of-type {\n",
       "        vertical-align: middle;\n",
       "    }\n",
       "\n",
       "    .dataframe tbody tr th {\n",
       "        vertical-align: top;\n",
       "    }\n",
       "\n",
       "    .dataframe thead th {\n",
       "        text-align: right;\n",
       "    }\n",
       "</style>\n",
       "<table border=\"1\" class=\"dataframe\">\n",
       "  <thead>\n",
       "    <tr style=\"text-align: right;\">\n",
       "      <th></th>\n",
       "      <th>reranking_score</th>\n",
       "      <th>cosine_similarity</th>\n",
       "    </tr>\n",
       "  </thead>\n",
       "  <tbody>\n",
       "    <tr>\n",
       "      <th>0</th>\n",
       "      <td>0.767690</td>\n",
       "      <td>0.386638</td>\n",
       "    </tr>\n",
       "    <tr>\n",
       "      <th>1</th>\n",
       "      <td>0.746139</td>\n",
       "      <td>0.457518</td>\n",
       "    </tr>\n",
       "    <tr>\n",
       "      <th>2</th>\n",
       "      <td>0.661923</td>\n",
       "      <td>0.547933</td>\n",
       "    </tr>\n",
       "    <tr>\n",
       "      <th>3</th>\n",
       "      <td>0.660172</td>\n",
       "      <td>0.496634</td>\n",
       "    </tr>\n",
       "    <tr>\n",
       "      <th>4</th>\n",
       "      <td>0.585101</td>\n",
       "      <td>0.352699</td>\n",
       "    </tr>\n",
       "  </tbody>\n",
       "</table>\n",
       "</div>"
      ]
     },
     "execution_count": 100,
     "metadata": {},
     "output_type": "execute_result"
    }
   ],
   "execution_count": 100
  },
  {
   "metadata": {
    "ExecuteTime": {
     "end_time": "2024-11-07T08:54:49.742131Z",
     "start_time": "2024-11-07T08:54:49.737239Z"
    }
   },
   "cell_type": "code",
   "source": [
    "for _, text, heading, title, score in data[['text', 'heading', 'title', 'reranking_score']].itertuples():\n",
    "    print(70 * '#')\n",
    "    print(f'{heading} in: \"{title}\"\\nScore: {score}')\n",
    "    print(70 * '#' + '\\n')\n",
    "    print(f'**Anfrage: {current_query}**\\n')\n",
    "    print(text + '\\n')"
   ],
   "id": "5b12f3ddc5b08296",
   "outputs": [
    {
     "name": "stdout",
     "output_type": "stream",
     "text": [
      "######################################################################\n",
      "10 Hyperbare Sauerstofftherapie (HBOT) in: \"S2k Diagnostik Therapie Kohlenmonoxidvergiftung\"\n",
      "Score: 0.7676898241043091\n",
      "######################################################################\n",
      "\n",
      "**Anfrage: Wann sollte eine Hyperbare Therapie eingesetzt werden?**\n",
      "\n",
      "Wann besteht die Indikation für eine hyperbare Therapie?\n",
      "\n",
      "######################################################################\n",
      "10 Hyperbare Sauerstofftherapie (HBOT) in: \"S2k Diagnostik Therapie Kohlenmonoxidvergiftung\"\n",
      "Score: 0.7461389899253845\n",
      "######################################################################\n",
      "\n",
      "**Anfrage: Wann sollte eine Hyperbare Therapie eingesetzt werden?**\n",
      "\n",
      "Bei den Anzeichen einer schweren Kohlenmonoxidvergiftung (u.a. fortgesetzte Bewusstseinsstörungen, metabolische Azidose, respiratorische Insuffizienz und/oder kardiale Ischämie) sowie bei Schwangerschaft sollte im Erwachsenenalter (18 Jahre) eine hyperbare Sauerstofftherapie durchgeführt werden.\n",
      "\n",
      "######################################################################\n",
      "Sondervotum der DGINA und DGIIN sowie der DGP* und GfKT*: in: \"S2k Diagnostik Therapie Kohlenmonoxidvergiftung\"\n",
      "Score: 0.6619228720664978\n",
      "######################################################################\n",
      "\n",
      "**Anfrage: Wann sollte eine Hyperbare Therapie eingesetzt werden?**\n",
      "\n",
      "In welchem Zeitfenster sollen Patienten zu einer hyperbaren Therapie verlegt werden?\n",
      "\n",
      "######################################################################\n",
      "Sondervotum der DGINA und DGIIN sowie der DGP* und GfKT*: in: \"S2k Diagnostik Therapie Kohlenmonoxidvergiftung\"\n",
      "Score: 0.6601723432540894\n",
      "######################################################################\n",
      "\n",
      "**Anfrage: Wann sollte eine Hyperbare Therapie eingesetzt werden?**\n",
      "\n",
      "Welche hyperbaren Behandlungsschemata sollen verwendet werden?\n",
      "\n",
      "######################################################################\n",
      "Sondervotum der GNPI sowie der GfKT*: in: \"S2k Diagnostik Therapie Kohlenmonoxidvergiftung\"\n",
      "Score: 0.5851011276245117\n",
      "######################################################################\n",
      "\n",
      "**Anfrage: Wann sollte eine Hyperbare Therapie eingesetzt werden?**\n",
      "\n",
      "Die Effektivität einer hyperbaren Sauerstofftherapie (HBOT) ist bei einer Kohlenmonoxidvergiftung bei Kindern unklar. Zudem entstehen zusätzliche Belastungen und Risiken durch den erforderlichen Transport und längeren Aufenthalt außerhalb der Intensivstation, sodass eine HBOT bei pädiatrischen Patienten mit Kohlenmonoxidvergiftung nur unter besonderen Bedingungen mit spezifischer Indikation durchgeführt werden sollte.\n",
      "\n"
     ]
    }
   ],
   "execution_count": 101
  },
  {
   "metadata": {
    "ExecuteTime": {
     "end_time": "2024-11-07T08:49:42.375498Z",
     "start_time": "2024-11-07T08:49:42.371333Z"
    }
   },
   "cell_type": "code",
   "source": "feedbacks = [[1, 1, 1, 1, 1], [1, 0, 1, 0, 0], [1, 1, 1, 1 ,1], [1, 1, 1, 0, 1],[1, 0, 0, 1, 0], [0, 1, 0, 0, 1], [1, 1, 1, 0, 1], [1, 1, 1, 0, 1], [1, 1, 1, 1, 1]]",
   "id": "88d9c108f45de17a",
   "outputs": [],
   "execution_count": 94
  },
  {
   "metadata": {
    "ExecuteTime": {
     "end_time": "2024-11-07T08:49:43.376859Z",
     "start_time": "2024-11-07T08:49:43.373034Z"
    }
   },
   "cell_type": "code",
   "source": [
    "top_5_recalls = [sum(feedback[:5])/5 for feedback in feedbacks]\n",
    "top_3_recalls = [sum(feedback[:3])/3 for feedback in feedbacks]\n",
    "top_1_recalls = [sum(feedback[:1]) for feedback in feedbacks]"
   ],
   "id": "8cb4b14a776730ad",
   "outputs": [],
   "execution_count": 95
  },
  {
   "metadata": {
    "ExecuteTime": {
     "end_time": "2024-11-07T08:49:44.572744Z",
     "start_time": "2024-11-07T08:49:44.569261Z"
    }
   },
   "cell_type": "code",
   "source": [
    "mean_top_5_recall = np.mean(top_5_recalls)\n",
    "mean_top_3_recall = np.mean(top_3_recalls)\n",
    "mean_top_1_recall = np.mean(top_1_recalls)"
   ],
   "id": "5032abfcecaf98f3",
   "outputs": [],
   "execution_count": 96
  },
  {
   "metadata": {
    "ExecuteTime": {
     "end_time": "2024-11-07T08:49:45.999586Z",
     "start_time": "2024-11-07T08:49:45.996188Z"
    }
   },
   "cell_type": "code",
   "source": "print(f'Average Top 5 Recall: {mean_top_5_recall:.4f}\\nAverage Top 3 Recall: {mean_top_3_recall:.4f}\\nAverage Top 1 Recall: {mean_top_1_recall:.4f}')",
   "id": "8dc38c06c637c6d6",
   "outputs": [
    {
     "name": "stdout",
     "output_type": "stream",
     "text": [
      "Average Top 5 Recall: 0.7333\n",
      "Average Top 3 Recall: 0.8148\n",
      "Average Top 1 Recall: 0.8889\n"
     ]
    }
   ],
   "execution_count": 97
  }
 ],
 "metadata": {
  "kernelspec": {
   "display_name": "Python 3",
   "language": "python",
   "name": "python3"
  },
  "language_info": {
   "codemirror_mode": {
    "name": "ipython",
    "version": 2
   },
   "file_extension": ".py",
   "mimetype": "text/x-python",
   "name": "python",
   "nbconvert_exporter": "python",
   "pygments_lexer": "ipython2",
   "version": "2.7.6"
  }
 },
 "nbformat": 4,
 "nbformat_minor": 5
}
