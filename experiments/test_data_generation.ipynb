{
 "cells": [
  {
   "cell_type": "code",
   "id": "initial_id",
   "metadata": {
    "collapsed": true,
    "ExecuteTime": {
     "end_time": "2024-11-07T09:11:02.764492Z",
     "start_time": "2024-11-07T09:11:02.025913Z"
    }
   },
   "source": [
    "import requests\n",
    "from ast import literal_eval\n",
    "from utils import ExtractedContent\n",
    "import pandas as pd\n",
    "from tqdm.notebook import tqdm\n",
    "from utils import get_title"
   ],
   "outputs": [],
   "execution_count": 1
  },
  {
   "metadata": {
    "ExecuteTime": {
     "end_time": "2024-11-05T13:53:47.659206Z",
     "start_time": "2024-11-05T13:53:47.654296Z"
    }
   },
   "cell_type": "code",
   "source": [
    "def get_fake_user_queries(document_title: str, chapter: str) -> list[str]:\n",
    "    api_url = 'http://localhost:1234/v1/chat/completions'\n",
    "    headers = {\n",
    "        \"Content-Type\": \"application/json\",\n",
    "    }\n",
    "    data = {\n",
    "        \"model\": \"gemma-2-9b-it\",\n",
    "        \"messages\": [\n",
    "            {\"role\": \"user\",\n",
    "             \"content\": f\"Du bist ein Mediziner, der in der Notaufname arbeitet und suchst Informationen aus dem Kapitel {chapter} aus der Leitlinie {document_title}, verfasse 10 realistische Sucheingaben um relevante Informationen aus dem Kapitel zu extrahieren, du suchst nur die Informationen zu deinem Fall, schreibe die Suchanfragen, als ob du die Namen der Leitlinie und des Kapitels nicht kennen würdest, verwende in den Anfragen verschiedene Ausdrücke für die Umstände des Patienten\"},\n",
    "        ],\n",
    "        \"temperature\": 0,\n",
    "        \"max_tokens\": -1,\n",
    "        \"stream\": False}\n",
    "    response = requests.post(api_url, headers=headers, json=data)\n",
    "\n",
    "    # Antwort verarbeiten\n",
    "    if response.status_code == 200:\n",
    "        result = response.json()\n",
    "        results = list(literal_eval(result['choices'][0]['message']['content']).values())\n",
    "    else:\n",
    "        print(\"Fehler:\", response.status_code, response.text)\n",
    "        results = []\n",
    "    return results"
   ],
   "id": "b84b1d59b6cf1700",
   "outputs": [],
   "execution_count": 3
  },
  {
   "metadata": {
    "ExecuteTime": {
     "end_time": "2024-11-05T13:53:47.673704Z",
     "start_time": "2024-11-05T13:53:47.666469Z"
    }
   },
   "cell_type": "code",
   "source": "list(ExtractedContent.contents['040-014l_S3_Intensivmedizin_nach_Polytrauma_2024-08.pdf'.lower()].keys())",
   "id": "d8bd085b0ccc920a",
   "outputs": [
    {
     "data": {
      "text/plain": [
       "['HERAUSGEBENDE',\n",
       " 'DIE WICHTIGSTEN EMPFEHLUNGEN AUF EINEN BLICK',\n",
       " 'GELTUNGSBEREICH UND ZWECK',\n",
       " 'A. ZIELSETZUNG UND FRAGESTELLUNG',\n",
       " 'B. VERSORGUNGSBEREICH',\n",
       " 'C. PATIENT*INNENZIELGRUPPE',\n",
       " 'D. ADRESSATEN',\n",
       " 'E. WEITERE DOKUMENTE ZU DIESER LEITLINIE',\n",
       " 'ZUSAMMENSETZUNG DER LEITLINIENGRUPPE',\n",
       " 'LEITLINIENKOORDINATION/ANSPRECHPARTNER',\n",
       " 'BETEILIGTE FACHGESELLSCHAFTEN UND ORGANISATION',\n",
       " 'KAPITELAUTOREN',\n",
       " 'VORWORT',\n",
       " '1 INTERDISZIPLINÄRE UND INTERPROFESSIONELLE ZUSAMMENARBEIT UND KOMMUNIKATION',\n",
       " '1.1 INTERDISZIPLINÄRE UND INTERPROFESSIONELLE ZUSAMMENARBEIT UND KOMMUNIKATION PRINZIPIEN DER ZUSAMMENARBEIT IN DER POLYTRAUMAVERSORGUNG',\n",
       " '1.2 INTERDISZIPLINÄRE UND INTERPROFESSIONELLE ZUSAMMENARBEIT UND KOMMUNIKATION OPTIMIERTES SETTING FÜR ZUSAMMENARBEIT UND KOMMUNIKATION',\n",
       " '1.3 INTERDISZIPLINÄRE UND INTERPROFESSIONELLE ZUSAMMENARBEIT UND KOMMUNIKATION BETEILIGE FACHDISZIPLINEN UND PROFESSIONEN IN DER INTENSIVMEDIZINISCHEN POLYTRAUMA-VERSORGUNG',\n",
       " '1.4 INTERDISZIPLINÄRE UND INTERPROFESSIONELLE ZUSAMMENARBEIT UND KOMMUNIKATION NOTWENDIGE RESSOURCEN',\n",
       " '1.5 INTERDISZIPLINÄRE UND INTERPROFESSIONELLE ZUSAMMENARBEIT UND KOMMUNIKATION PRAKTISCHE DURCHFÜHRUNG DER PATIENT*INNEN-ÜBERGABE NACH POLYTRAUMA',\n",
       " '1.6 INTERDISZIPLINÄRE UND INTERPROFESSIONELLE ZUSAMMENARBEIT UND KOMMUNIKATION DOKUMENTATIONSSTANDARDS ZUR ERFASSUNG DER INTENSIV-MEDIZINISCHEN KOMPLEXBEHANDLUNG',\n",
       " '1.7 INTERDISZIPLINÄRE UND INTERPROFESSIONELLE ZUSAMMENARBEIT UND KOMMUNIKATION PATIENT*INNEN-KOMMUNIKATION',\n",
       " '1.8 INTERDISZIPLINÄRE UND INTERPROFESSIONELLE ZUSAMMENARBEIT UND KOMMUNIKATION ANGEHÖRIGEN-KOMMUNIKATION',\n",
       " '2. AUFNAHME AUF DIE INTENSIVSTATION',\n",
       " '2.1 AUFNAHME AUF DIE INTENSIVSTATION INDIKATIONSSTELLUNG ZUR ITS-AUFNAHME',\n",
       " '2.2 AUFNAHME AUF DIE INTENSIVSTATION ANFORDERUNGSPROFIL AN AUSSTATTUNG EINER POLYTRAUMA-ITS',\n",
       " '2.3 AUFNAHME AUF DIE INTENSIVSTATION MELDEKETTEN NACH ÜBERNAHME AUF DIE ITS',\n",
       " '2.4 AUFNAHME AUF DIE INTENSIVSTATION UNTERSUCHUNG NACH ITS-AUFNAHME',\n",
       " '2.5 AUFNAHME AUF DIE INTENSIVSTATION TELEMEDIZIN AUF DER INTENSIVSTATION',\n",
       " '3. MONITORING',\n",
       " '3.1 MONITORING KLINISCHES MONITORING',\n",
       " '3.2 MONITORING ORGANSPEZIFISCHES, APPARATIVES MONITORING',\n",
       " '3.2.1 MONITORING ZNS - INTRAKRANIELLE DRUCKMESSUNG',\n",
       " '3.2.3 MONITORING HERZ-KREISLAUF',\n",
       " '3.2.4 MONITORING NIERE',\n",
       " '4. BILDGEBUNG IM STATIONÄREN VERLAUF',\n",
       " '4.1 BILDGEBUNG IM STATIONÄREN VERLAUF EINLEITUNG',\n",
       " '4.2 BILDGEBUNG IM STATIONÄREN VERLAUF BILDGEBUNGSMODALITÄTEN STATIONÄR UND IN DER RADIOLOGISCHEN ABTEILUNG',\n",
       " '4.3 BILDGEBUNG IM STATIONÄREN VERLAUF INDIKATION FÜR BILDGEBUNG VON/AUF DER INTENSIVSTATION',\n",
       " '4.4 BILDGEBUNG IM STATIONÄREN VERLAUF ABWÄGUNG THERAPEUTISCHER NUTZEN VS. GEFAHREN DURCH TRANSPORT',\n",
       " '4.5.1 BILDGEBUNG IM STATIONÄREN VERLAUF KRANIO-ZERVIKO-SPINALE VERLETZUNGEN',\n",
       " '4.5.1.1 BILDGEBUNG IM STATIONÄREN VERLAUF SCHÄDEL-HIRN-TRAUMA',\n",
       " '4.5.1.2 BILDGEBUNG IM STATIONÄREN VERLAUF ZERVIKALE DISSEKTION',\n",
       " '4.5.1.3 BILDGEBUNG IM STATIONÄREN VERLAUF SPINALE VERLETZUNG',\n",
       " '4.5.1.4 BILDGEBUNG IM STATIONÄREN VERLAUF HIRNTOD',\n",
       " '4.5.2 BILDGEBUNG IM STATIONÄREN VERLAUF THORAXVERLETZUNGEN',\n",
       " '4.5.3 BILDGEBUNG IM STATIONÄREN VERLAUF EINSATZMÖGLICHKEITEN DER ELEKTRISCHEN IMPEDANZTOMOGRAPHIE (EIT)',\n",
       " '4.5.4 BILDGEBUNG IM STATIONÄREN VERLAUF ABDOMINELLE VERLETZUNGEN',\n",
       " '4.5.5 BILDGEBUNG IM STATIONÄREN VERLAUF EXTREMITÄTENVERLETZUNGEN',\n",
       " '5. BEATMUNG',\n",
       " '5.1 BEATMUNG INDIKATION ZUR INITIIERUNG DER NON-INVASIVEN BEATMUNG NACH POLYTRAUMA',\n",
       " '5.2 BEATMUNG INDIKATION ZUR INITIIERUNG DER INVASIVEN BEATMUNG NACH POLYTRAUMA',\n",
       " '5.3 BEATMUNG WAHL DES BEATMUNGSVERFAHRENS',\n",
       " '5.4 BEATMUNG BEATMUNGSPRINZIPIEN IM ARDS NACH POLYTRAUMA',\n",
       " '5.5 BEATMUNG TRACHEOTOMIE',\n",
       " '5.6 BEATMUNG ENTWÖHNUNG VON DER INVASIVEN BEATMUNG',\n",
       " '6. VOLUMEN- UND KREISLAUFTHERAPIE',\n",
       " '6.1 VOLUMEN- UND KREISLAUFTHERAPIE DIAGNOSE DES VOLUMENMANGELS NACH POLYTRAUMA',\n",
       " '6.2 VOLUMEN- UND KREISLAUFTHERAPIE WAHL DES VOLUMENERSATZES BEI POLYTRAUMAPATIENT*INNEN',\n",
       " '6.3 VOLUMEN- UND KREISLAUFTHERAPIE BLUTTRANSFUSION UND TRANSFUSIONSTRIGGER',\n",
       " '6.4 VOLUMEN- UND KREISLAUFTHERAPIE ZIELPARAMETER DER HERZ-KREISLAUFTHERAPIE',\n",
       " '6.5 VOLUMEN- UND KREISLAUFTHERAPIE STEUERUNG DER VOLUMENTHERAPIE NACH POLYTRAUMATISIERUNG',\n",
       " '7. DEFINITIVE CHIRURGISCHE VERSORGUNG',\n",
       " '7.1 DEFINITIVE CHIRURGISCHE VERSORGUNG FAKTOREN, DIE DEN OP-ZEITPUNKT FÜR MAßNAHMEN NACH DER 1. OPERATIONSPHASE BEEINFLUSSEN',\n",
       " '7.2 DEFINITIVE CHIRURGISCHE VERSORGUNG RELEVANTE PARAMETER ZUR ENTSCHEIDUNGSFINDUNG',\n",
       " '8. ERNÄHRUNGSTHERAPIE',\n",
       " '9. LAGERUNG UND PHYSIOTHERAPIE',\n",
       " '9.1 LAGERUNG UND PHYSIOTHERAPIE EINLEITUNG',\n",
       " '9.2 LAGERUNG UND PHYSIOTHERAPIE LAGERUNG BEI SPEZIELLEN KRANKHEITSBILDERN',\n",
       " '9.2.1 LAGERUNG UND PHYSIOTHERAPIE GRUNDPRINZIPIEN DER LAGERUNG UND RUHIGSTELLUNG BEI VERLETZUNGEN DER EXTREMITÄTEN',\n",
       " '9.2.2 LAGERUNG UND PHYSIOTHERAPIE LAGERUNG BEI PATIENT*INNEN MIT SCHÄDEL-HIRN-TRAUMA',\n",
       " '9.2.3 LAGERUNG UND PHYSIOTHERAPIE LAGERUNG BEI THORAXTRAUMA',\n",
       " '9.2.4 LAGERUNG UND PHYSIOTHERAPIE LAGERUNG BEI WIRBELSÄULENVERLETZUNG',\n",
       " '9.2.5 LAGERUNG UND PHYSIOTHERAPIE LAGERUNG BEI ABDOMINELLEM TRAUMA',\n",
       " '9.2.6 LAGERUNG UND PHYSIOTHERAPIE LAGERUNG BEI BECKENVERLETZUNGEN',\n",
       " '9.2.7 LAGERUNG UND PHYSIOTHERAPIE BAUCHLAGERUNG',\n",
       " '9.3 LAGERUNG UND PHYSIOTHERAPIE MOBILISATION UND PHYSIOTHERAPIE',\n",
       " '10. MULTIORGANVERSAGEN UND ORGANERSATZTHERAPIE',\n",
       " '10.1 MULTIORGANVERSAGEN UND ORGANERSATZTHERAPIE NIERENERSATZVERFAHREN',\n",
       " '10.2 MULTIORGANVERSAGEN UND ORGANERSATZTHERAPIE EXTRAKORPORALE MEMBRANOXYGENIERUNG',\n",
       " '11. WUNDMANAGEMENT',\n",
       " '11.1 WUNDMANAGEMENT VERBANDWECHSEL UND WUNDKONTROLLE',\n",
       " '11.2 WUNDMANAGEMENT OFFENE WUNDBEHANDLUNG UND WUNDAUFLAGEN',\n",
       " '11.3 WUNDMANAGEMENT VAKUUMVERBÄNDE',\n",
       " '11.4 WUNDMANAGEMENT THERMISCHE VERLETZUNGEN',\n",
       " '11.5 WUNDMANAGEMENT WUNDVERSORGUNG BEI PATIENT*INNEN MIT ANLIEGENDEM FIXATEUR EXTERNE ODER EXTENSIONSVORRICHTUNGEN',\n",
       " '11.6 WUNDMANAGEMENT PATIENT*INNENINDIVIDUELLE ASPEKTE DER WUNDHEILUNG',\n",
       " '12. SEPSIS UND SEPSISMANAGEMENT',\n",
       " '13. ABWENDUNG DER VITALEN BEDROHUNG',\n",
       " '14. SCHMERZMANAGEMENT',\n",
       " '14.1 SCHMERZMANAGEMENT GRUNDPRINZIPIEN DES SCHMERZMANAGEMENTS',\n",
       " '14.2 SCHMERZMANAGEMENT SPEZIFISCHES SCHMERZMANAGEMENT NACH POLYTRAUMA',\n",
       " '14.3 SCHMERZMANAGEMENT EINSATZ OPIAT-SPARENDER SCHMERZTHERAPIE',\n",
       " '15. DELIR- UND SEDIERUNGSMANAGEMENT',\n",
       " '15.1 DELIR- UND SEDIERUNGSMANAGEMENT DELIR',\n",
       " '15.2 DELIR- UND SEDIERUNGSMANAGEMENT SEDIERUNG',\n",
       " '16. FRÜHZEITIGES REHABILITATIONSORIENTIERTES ENTLASSMANAGEMENT',\n",
       " '17. KAPITELÜBERGREIFENDE GENDER- UND ALTERSSPEZIFISCHE ASPEKTE',\n",
       " '18. KOSTENNUTZEN',\n",
       " '19. FEHLERMANAGEMENT UND VERMEIDUNG VON KOMPLIKATIONEN',\n",
       " '20. RECHTLICHE ASPEKTE IN DER POLYTRAUMAVERSORGUNG',\n",
       " 'III. ANLAGEN',\n",
       " 'KOMMENTARLISTE',\n",
       " 'SYSTEMATIK DER LEITLINIE',\n",
       " 'ERLÄUTERUNG DER ABKÜRZUNGEN',\n",
       " 'LITERATUR']"
      ]
     },
     "execution_count": 4,
     "metadata": {},
     "output_type": "execute_result"
    }
   ],
   "execution_count": 4
  },
  {
   "metadata": {
    "ExecuteTime": {
     "end_time": "2024-11-05T13:53:47.697752Z",
     "start_time": "2024-11-05T13:53:47.691183Z"
    }
   },
   "cell_type": "code",
   "source": [
    "excluded_chapters = [\"Leitsatz\", \"Inhaltsverzeichnis\", \"Literaturverzeichnis\",\n",
    "                     \"E. Ökonomie, Qualitätssicherung und Implementierung der Leitlinie\",\n",
    "                     \"A. Analgesie, Sedierung und Delirmanagement bei Erwachsenen\", \"B. Spezielle Patient:innengruppen\",\n",
    "                     \"C. Analgesie, Sedierung und Delirmanagement bei Kindern\",\n",
    "                     \"D. Analgesie, Sedierung und Delirmanagement bei älteren Patient:innen\",\n",
    "                     \"Informationen zu dieser Leitlinie\", '2. AUFNAHME AUF DIE INTENSIVSTATION',\n",
    "                     'Informationen zu dieser Leitlinie - 2.1 Federführende Fachgesellschaft', 'III. ANLAGEN',\n",
    "                     '3. MONITORING', 'HERAUSGEBENDE', 'DIE WICHTIGSTEN EMPFEHLUNGEN AUF EINEN BLICK',\n",
    "                     'GELTUNGSBEREICH UND ZWECK', 'A. ZIELSETZUNG UND FRAGESTELLUNG', 'B. VERSORGUNGSBEREICH',\n",
    "                     'C. PATIENT*INNENZIELGRUPPE', 'D. ADRESSATEN', 'E. WEITERE DOKUMENTE ZU DIESER LEITLINIE',\n",
    "                     'ZUSAMMENSETZUNG DER LEITLINIENGRUPPE', 'LEITLINIENKOORDINATION/ANSPRECHPARTNER',\n",
    "                     'BETEILIGTE FACHGESELLSCHAFTEN UND ORGANISATION', 'KAPITELAUTOREN', 'VORWORT', 'KOMMENTARLISTE',\n",
    "                     '14. SCHMERZMANAGEMENT',\n",
    "                     '9.2 LAGERUNG UND PHYSIOTHERAPIE LAGERUNG BEI SPEZIELLEN KRANKHEITSBILDERN',\n",
    "                     'SYSTEMATIK DER LEITLINIE', '11. WUNDMANAGEMENT', '5. BEATMUNG',\n",
    "                     '4. BILDGEBUNG IM STATIONÄREN VERLAUF', 'ERLÄUTERUNG DER ABKÜRZUNGEN',\n",
    "                     '10. MULTIORGANVERSAGEN UND ORGANERSATZTHERAPIE',\n",
    "                     '1 INTERDISZIPLINÄRE UND INTERPROFESSIONELLE ZUSAMMENARBEIT UND KOMMUNIKATION', 'LITERATUR',\n",
    "                     '15. DELIR- UND SEDIERUNGSMANAGEMENT', '9. LAGERUNG UND PHYSIOTHERAPIE',\n",
    "                     'Informationen zu dieser Leitlinie - 2.2 Kontakt', '7. DEFINITIVE CHIRURGISCHE VERSORGUNG',\n",
    "                     'Informationen zu dieser Leitlinie - 2.3 Zitierweise', '6. VOLUMEN- UND KREISLAUFTHERAPIE',\n",
    "                     '4.5.1 BILDGEBUNG IM STATIONÄREN VERLAUF KRANIO-ZERVIKO-SPINALE VERLETZUNGEN',\n",
    "                     'Informationen zu dieser Leitlinie - 2.4 Besonderer Hinweis',\n",
    "                     'Informationen zu dieser Leitlinie - 2.5 Verantwortlichkeiten',\n",
    "                     'Informationen zu dieser Leitlinie - 2.5.1 Beteiligte Fachgesellschaften und Organisationen',\n",
    "                     'Informationen zu dieser Leitlinie - 2.5.2 Autoren dieser Leitlinie und Mitglieder der Leitliniengruppe',\n",
    "                     'Informationen zu dieser Leitlinie - 2.5.3 Methodische Begleitung',\n",
    "                     'Informationen zu dieser Leitlinie - 2.5.4 Weitere Autoren und Fachgesellschaften dieser Leitlinie und Mitglieder der Leitliniengruppe (kein Stimmrecht)',\n",
    "                     'Informationen zu dieser Leitlinie - 2.5.5 Beteiligte Fachgesellschaften ohne aktive Mitarbeit in der Leitliniengruppe',\n",
    "                     'Informationen zu dieser Leitlinie - 2.6 Zielsetzung', 'Klinische Erstversorgung',\n",
    "                     'Informationen zu dieser Leitlinie - 2.7 Grundlagen der Methodik',\n",
    "                     'Informationen zu dieser Leitlinie - 2.7.1 Verwendete Definitionen für Empfehlungs- und Konsensstärken',\n",
    "                     'Informationen zu dieser Leitlinie - 2.7.2 Gültigkeitsdauer und Aktualisierungsverfahren',\n",
    "                     'Anhang', 'Rettung', 'Symptome und Diagnostik',\n",
    "                     'Ätiologie und Pathogenese der Kohlenmonoxidvergiftung', 'Anhang', 'Qualitätssicherung']"
   ],
   "id": "8443b00062854f39",
   "outputs": [],
   "execution_count": 5
  },
  {
   "metadata": {
    "ExecuteTime": {
     "end_time": "2024-11-05T14:03:43.498931Z",
     "start_time": "2024-11-05T13:53:47.710515Z"
    }
   },
   "cell_type": "code",
   "source": [
    "test_data = {'query': [], 'document_title': [], 'chapter_name': []}\n",
    "for filename, table_of_contents in tqdm(ExtractedContent.contents.items(), leave=False):\n",
    "    title = get_title(filename)\n",
    "    for chapter in tqdm(table_of_contents, leave=False):\n",
    "        if chapter not in excluded_chapters:\n",
    "            queries = get_fake_user_queries(title, chapter)\n",
    "            for query in queries:\n",
    "                test_data['query'].append(query)\n",
    "                test_data['document_title'].append(title)\n",
    "                test_data['chapter_name'].append(chapter)\n"
   ],
   "id": "a661249af781ed",
   "outputs": [
    {
     "data": {
      "text/plain": [
       "  0%|          | 0/3 [00:00<?, ?it/s]"
      ],
      "application/vnd.jupyter.widget-view+json": {
       "version_major": 2,
       "version_minor": 0,
       "model_id": "573ea0bfbeaa4b918521a803f7d6b96b"
      }
     },
     "metadata": {},
     "output_type": "display_data"
    },
    {
     "data": {
      "text/plain": [
       "  0%|          | 0/39 [00:00<?, ?it/s]"
      ],
      "application/vnd.jupyter.widget-view+json": {
       "version_major": 2,
       "version_minor": 0,
       "model_id": "ebe880b887e749babf17d6e8117c8389"
      }
     },
     "metadata": {},
     "output_type": "display_data"
    },
    {
     "data": {
      "text/plain": [
       "  0%|          | 0/45 [00:00<?, ?it/s]"
      ],
      "application/vnd.jupyter.widget-view+json": {
       "version_major": 2,
       "version_minor": 0,
       "model_id": "67bcfd84affe49c5aec705ee508f4142"
      }
     },
     "metadata": {},
     "output_type": "display_data"
    },
    {
     "data": {
      "text/plain": [
       "  0%|          | 0/105 [00:00<?, ?it/s]"
      ],
      "application/vnd.jupyter.widget-view+json": {
       "version_major": 2,
       "version_minor": 0,
       "model_id": "d63b133adb7043b4afad8afb6360f18a"
      }
     },
     "metadata": {},
     "output_type": "display_data"
    }
   ],
   "execution_count": 6
  },
  {
   "metadata": {
    "ExecuteTime": {
     "end_time": "2024-11-05T14:17:56.875154Z",
     "start_time": "2024-11-05T14:17:56.864446Z"
    }
   },
   "cell_type": "code",
   "source": [
    "test_df = pd.DataFrame(test_data)\n",
    "test_df"
   ],
   "id": "f4274d0bf0eca155",
   "outputs": [
    {
     "data": {
      "text/plain": [
       "                                                 query  \\\n",
       "0    [Schmerztherapie bei bewusstlosem Patienten im...   \n",
       "1    [Risikofaktoren für Schmerzen bei Intensivpati...   \n",
       "2    [Prävention von Schmerzen bei Intensivpatiente...   \n",
       "3    [Prävention akuter Belastungen bei Intensivpat...   \n",
       "4    [Monitoring der Schmerztherapie bei einem bewu...   \n",
       "..                                                 ...   \n",
       "122  [Frühzeitige Rehabilitation nach Polytrauma im...   \n",
       "123  [Behandlungsprioritäten bei polytraumatisierte...   \n",
       "124  [Kosten-Nutzen-Analyse bei polytraumatisierten...   \n",
       "125  [Komplikationen nach Polytrauma im Intensivber...   \n",
       "126  [rechtliche Aspekte Notfallversorgung Schwerve...   \n",
       "\n",
       "                                        document_title  \\\n",
       "0    s3 analgesie sedierung delirmanagement in der ...   \n",
       "1    s3 analgesie sedierung delirmanagement in der ...   \n",
       "2    s3 analgesie sedierung delirmanagement in der ...   \n",
       "3    s3 analgesie sedierung delirmanagement in der ...   \n",
       "4    s3 analgesie sedierung delirmanagement in der ...   \n",
       "..                                                 ...   \n",
       "122                 s3 intensivmedizin nach polytrauma   \n",
       "123                 s3 intensivmedizin nach polytrauma   \n",
       "124                 s3 intensivmedizin nach polytrauma   \n",
       "125                 s3 intensivmedizin nach polytrauma   \n",
       "126                 s3 intensivmedizin nach polytrauma   \n",
       "\n",
       "                                          chapter_name  \n",
       "0    A. Analgesie, Sedierung und Delirmanagement be...  \n",
       "1    A. Analgesie, Sedierung und Delirmanagement be...  \n",
       "2    A. Analgesie, Sedierung und Delirmanagement be...  \n",
       "3    A. Analgesie, Sedierung und Delirmanagement be...  \n",
       "4    A. Analgesie, Sedierung und Delirmanagement be...  \n",
       "..                                                 ...  \n",
       "122  16. FRÜHZEITIGES REHABILITATIONSORIENTIERTES E...  \n",
       "123  17. KAPITELÜBERGREIFENDE GENDER- UND ALTERSSPE...  \n",
       "124                                   18. KOSTENNUTZEN  \n",
       "125  19. FEHLERMANAGEMENT UND VERMEIDUNG VON KOMPLI...  \n",
       "126  20. RECHTLICHE ASPEKTE IN DER POLYTRAUMAVERSOR...  \n",
       "\n",
       "[127 rows x 3 columns]"
      ],
      "text/html": [
       "<div>\n",
       "<style scoped>\n",
       "    .dataframe tbody tr th:only-of-type {\n",
       "        vertical-align: middle;\n",
       "    }\n",
       "\n",
       "    .dataframe tbody tr th {\n",
       "        vertical-align: top;\n",
       "    }\n",
       "\n",
       "    .dataframe thead th {\n",
       "        text-align: right;\n",
       "    }\n",
       "</style>\n",
       "<table border=\"1\" class=\"dataframe\">\n",
       "  <thead>\n",
       "    <tr style=\"text-align: right;\">\n",
       "      <th></th>\n",
       "      <th>query</th>\n",
       "      <th>document_title</th>\n",
       "      <th>chapter_name</th>\n",
       "    </tr>\n",
       "  </thead>\n",
       "  <tbody>\n",
       "    <tr>\n",
       "      <th>0</th>\n",
       "      <td>[Schmerztherapie bei bewusstlosem Patienten im...</td>\n",
       "      <td>s3 analgesie sedierung delirmanagement in der ...</td>\n",
       "      <td>A. Analgesie, Sedierung und Delirmanagement be...</td>\n",
       "    </tr>\n",
       "    <tr>\n",
       "      <th>1</th>\n",
       "      <td>[Risikofaktoren für Schmerzen bei Intensivpati...</td>\n",
       "      <td>s3 analgesie sedierung delirmanagement in der ...</td>\n",
       "      <td>A. Analgesie, Sedierung und Delirmanagement be...</td>\n",
       "    </tr>\n",
       "    <tr>\n",
       "      <th>2</th>\n",
       "      <td>[Prävention von Schmerzen bei Intensivpatiente...</td>\n",
       "      <td>s3 analgesie sedierung delirmanagement in der ...</td>\n",
       "      <td>A. Analgesie, Sedierung und Delirmanagement be...</td>\n",
       "    </tr>\n",
       "    <tr>\n",
       "      <th>3</th>\n",
       "      <td>[Prävention akuter Belastungen bei Intensivpat...</td>\n",
       "      <td>s3 analgesie sedierung delirmanagement in der ...</td>\n",
       "      <td>A. Analgesie, Sedierung und Delirmanagement be...</td>\n",
       "    </tr>\n",
       "    <tr>\n",
       "      <th>4</th>\n",
       "      <td>[Monitoring der Schmerztherapie bei einem bewu...</td>\n",
       "      <td>s3 analgesie sedierung delirmanagement in der ...</td>\n",
       "      <td>A. Analgesie, Sedierung und Delirmanagement be...</td>\n",
       "    </tr>\n",
       "    <tr>\n",
       "      <th>...</th>\n",
       "      <td>...</td>\n",
       "      <td>...</td>\n",
       "      <td>...</td>\n",
       "    </tr>\n",
       "    <tr>\n",
       "      <th>122</th>\n",
       "      <td>[Frühzeitige Rehabilitation nach Polytrauma im...</td>\n",
       "      <td>s3 intensivmedizin nach polytrauma</td>\n",
       "      <td>16. FRÜHZEITIGES REHABILITATIONSORIENTIERTES E...</td>\n",
       "    </tr>\n",
       "    <tr>\n",
       "      <th>123</th>\n",
       "      <td>[Behandlungsprioritäten bei polytraumatisierte...</td>\n",
       "      <td>s3 intensivmedizin nach polytrauma</td>\n",
       "      <td>17. KAPITELÜBERGREIFENDE GENDER- UND ALTERSSPE...</td>\n",
       "    </tr>\n",
       "    <tr>\n",
       "      <th>124</th>\n",
       "      <td>[Kosten-Nutzen-Analyse bei polytraumatisierten...</td>\n",
       "      <td>s3 intensivmedizin nach polytrauma</td>\n",
       "      <td>18. KOSTENNUTZEN</td>\n",
       "    </tr>\n",
       "    <tr>\n",
       "      <th>125</th>\n",
       "      <td>[Komplikationen nach Polytrauma im Intensivber...</td>\n",
       "      <td>s3 intensivmedizin nach polytrauma</td>\n",
       "      <td>19. FEHLERMANAGEMENT UND VERMEIDUNG VON KOMPLI...</td>\n",
       "    </tr>\n",
       "    <tr>\n",
       "      <th>126</th>\n",
       "      <td>[rechtliche Aspekte Notfallversorgung Schwerve...</td>\n",
       "      <td>s3 intensivmedizin nach polytrauma</td>\n",
       "      <td>20. RECHTLICHE ASPEKTE IN DER POLYTRAUMAVERSOR...</td>\n",
       "    </tr>\n",
       "  </tbody>\n",
       "</table>\n",
       "<p>127 rows × 3 columns</p>\n",
       "</div>"
      ]
     },
     "execution_count": 16,
     "metadata": {},
     "output_type": "execute_result"
    }
   ],
   "execution_count": 16
  },
  {
   "metadata": {
    "ExecuteTime": {
     "end_time": "2024-11-05T14:17:58.747330Z",
     "start_time": "2024-11-05T14:17:58.741044Z"
    }
   },
   "cell_type": "code",
   "source": [
    "test_df = test_df.explode('query').reset_index(drop=True)\n",
    "test_df.shape"
   ],
   "id": "f30399b625de5d19",
   "outputs": [
    {
     "data": {
      "text/plain": [
       "(1270, 3)"
      ]
     },
     "execution_count": 17,
     "metadata": {},
     "output_type": "execute_result"
    }
   ],
   "execution_count": 17
  },
  {
   "metadata": {
    "ExecuteTime": {
     "end_time": "2024-11-05T14:17:59.960955Z",
     "start_time": "2024-11-05T14:17:59.951955Z"
    }
   },
   "cell_type": "code",
   "source": "test_df.to_csv('data/evaluation/synthetic_queries.csv')",
   "id": "a798d58e1e5e8562",
   "outputs": [],
   "execution_count": 18
  }
 ],
 "metadata": {
  "kernelspec": {
   "display_name": "Python 3",
   "language": "python",
   "name": "python3"
  },
  "language_info": {
   "codemirror_mode": {
    "name": "ipython",
    "version": 2
   },
   "file_extension": ".py",
   "mimetype": "text/x-python",
   "name": "python",
   "nbconvert_exporter": "python",
   "pygments_lexer": "ipython2",
   "version": "2.7.6"
  }
 },
 "nbformat": 4,
 "nbformat_minor": 5
}
