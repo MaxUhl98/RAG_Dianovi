{
 "cells": [
  {
   "metadata": {},
   "cell_type": "code",
   "outputs": [],
   "execution_count": null,
   "source": [
    "import numpy as np\n",
    "from datasets import Dataset\n",
    "from models import load_models\n",
    "from rag_configuration import CFG\n",
    "from typing import Any"
   ],
   "id": "13638af13745d044"
  },
  {
   "metadata": {},
   "cell_type": "code",
   "outputs": [],
   "execution_count": null,
   "source": "embedding_model, _ = load_models()",
   "id": "37011eccc20cbc0a"
  },
  {
   "cell_type": "code",
   "execution_count": null,
   "id": "677d7ea232e251e",
   "metadata": {},
   "outputs": [],
   "source": [
    "dataset = Dataset.load_from_disk('data/preprocessed_rag_chunks_no_embedding')\n",
    "dataset = dataset.add_column('embedded_text',\n",
    "                             ['\\n\\n'.join([f\"**{chunk['headings']}**\", f\"{chunk['text_content']}\"]) for chunk in\n",
    "                              dataset])"
   ]
  },
  {
   "metadata": {},
   "cell_type": "code",
   "outputs": [],
   "execution_count": null,
   "source": [
    "def calculate_embedding(batch:Any) -> np.ndarray:\n",
    "    \"\"\"\n",
    "    Calculates the embedding vector for a given batch of text data. This function is specifically made to work with datasets.Dataset.map(batched=True).\n",
    "\n",
    "    :param batch: A dictionary containing the key 'embedded_text', which is the text data to be encoded.\n",
    "                  The resulting embedding will be stored in a new key, 'embedding', within the batch.\n",
    "    :return: The modified batch with an added 'embedding' key containing the computed embedding vector as a numpy array.\n",
    "    \"\"\"\n",
    "    batch['embedding'] = embedding_model.encode(batch['embedded_text'], task=CFG.task)\n",
    "    return batch"
   ],
   "id": "b20b975f44080fa6"
  },
  {
   "metadata": {
    "collapsed": true
   },
   "cell_type": "code",
   "outputs": [],
   "execution_count": null,
   "source": [
    "dataset = dataset.map(calculate_embedding, batched=True, batch_size=32)\n",
    "dataset.save_to_disk('data/preprocessed_rag_chunks_text_and_heading')"
   ],
   "id": "initial_id"
  }
 ],
 "metadata": {
  "kernelspec": {
   "display_name": "Python 3",
   "language": "python",
   "name": "python3"
  },
  "language_info": {
   "codemirror_mode": {
    "name": "ipython",
    "version": 2
   },
   "file_extension": ".py",
   "mimetype": "text/x-python",
   "name": "python",
   "nbconvert_exporter": "python",
   "pygments_lexer": "ipython2",
   "version": "2.7.6"
  }
 },
 "nbformat": 4,
 "nbformat_minor": 5
}
